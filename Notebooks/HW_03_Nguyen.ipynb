{
 "cells": [
  {
   "cell_type": "markdown",
   "metadata": {},
   "source": [
    "## Homework 03\n",
    "\n",
    "**Tran Nguyen**\n",
    "\n",
    "**DSCI 39001 - Neural Networks**\n",
    "\n",
    "**Due Monday, Feb. 04, 9 AM**"
   ]
  },
  {
   "cell_type": "markdown",
   "metadata": {},
   "source": [
    "## Description \n",
    "\n",
    "In this assignment, you will be tasked with designing a neural network to be trained on the \"Breast Cancer\" dataset. Information about the dataset can be found here: https://archive.ics.uci.edu/ml/datasets/Breast+Cancer+Wisconsin+(Diagnostic)"
   ]
  },
  {
   "cell_type": "markdown",
   "metadata": {},
   "source": [
    "## Import Packages.\n",
    "\n",
    "Import the `numpy` and `matplotlib` packages. You should also import the standard classes we have used for building neural network models in keras. I recommend using the `Adam` optimizer. Finally, you should import the `set_random_seed` function from `tensorflow`, and the `train_test_split` function from `sklearn`. "
   ]
  },
  {
   "cell_type": "code",
   "execution_count": 7,
   "metadata": {},
   "outputs": [],
   "source": [
    "import numpy as np\n",
    "import matplotlib.pyplot as plt\n",
    "import h5py\n",
    "import keras \n",
    "from keras.models import Sequential\n",
    "from keras.layers import Dense\n",
    "from keras.optimizers import Adam\n",
    "from tensorflow import set_random_seed\n",
    "\n",
    "from sklearn.model_selection import train_test_split"
   ]
  },
  {
   "cell_type": "code",
   "execution_count": 2,
   "metadata": {},
   "outputs": [
    {
     "name": "stdout",
     "output_type": "stream",
     "text": [
      "2.2.4\n",
      "2.7.0\n"
     ]
    }
   ],
   "source": [
    "print(keras.__version__)\n",
    "print(h5py.__version__)"
   ]
  },
  {
   "cell_type": "markdown",
   "metadata": {},
   "source": [
    "## Loading and Preparing the Data\n",
    "\n",
    "The cell below will import the data from `sklearn`, and will extract the feature and label arrays. Add some code to print the shapes of these two arrays."
   ]
  },
  {
   "cell_type": "code",
   "execution_count": 3,
   "metadata": {
    "scrolled": false
   },
   "outputs": [
    {
     "name": "stdout",
     "output_type": "stream",
     "text": [
      "(569, 30)\n",
      "(569,)\n"
     ]
    }
   ],
   "source": [
    "from sklearn.datasets import load_breast_cancer\n",
    "\n",
    "bc_data = load_breast_cancer()\n",
    "X = bc_data.data\n",
    "y = bc_data.target\n",
    "\n",
    "print(X.shape)\n",
    "print(y.shape)\n"
   ]
  },
  {
   "cell_type": "markdown",
   "metadata": {},
   "source": [
    "As we can see, the data set contains 569 samples, each of which has 30 features. Each sample represents a single tumor, and the features represent measurements taken of the tumor. \n",
    "\n",
    "The cell below prints the names of the 30 features, and the names of the classes that the labels correspond to. Note that labels will be encoded as 0 or 1 within the label array."
   ]
  },
  {
   "cell_type": "code",
   "execution_count": 4,
   "metadata": {},
   "outputs": [
    {
     "name": "stdout",
     "output_type": "stream",
     "text": [
      "The names of the features are:\n",
      "['mean radius' 'mean texture' 'mean perimeter' 'mean area'\n",
      " 'mean smoothness' 'mean compactness' 'mean concavity'\n",
      " 'mean concave points' 'mean symmetry' 'mean fractal dimension'\n",
      " 'radius error' 'texture error' 'perimeter error' 'area error'\n",
      " 'smoothness error' 'compactness error' 'concavity error'\n",
      " 'concave points error' 'symmetry error' 'fractal dimension error'\n",
      " 'worst radius' 'worst texture' 'worst perimeter' 'worst area'\n",
      " 'worst smoothness' 'worst compactness' 'worst concavity'\n",
      " 'worst concave points' 'worst symmetry' 'worst fractal dimension']\n",
      "\n",
      "The names of the classes are: ['malignant' 'benign']\n"
     ]
    }
   ],
   "source": [
    "print('The names of the features are:')\n",
    "print(bc_data.feature_names)\n",
    "\n",
    "print('\\nThe names of the classes are:', bc_data.target_names)"
   ]
  },
  {
   "cell_type": "markdown",
   "metadata": {},
   "source": [
    "Our goal is to design and train a network that will use the 30 features as inputs, and will output a single value which will be intepreted as an estimate of the probability that the tumor is benign (Class 1). \n",
    "\n",
    "In the next cell, split `X` and `y` as follows:\n",
    "* Split `X` into `X_train`, `X_val`, and `X_test`. \n",
    "* Split `y` into `y_train`, `y_val`, and `y_test`. \n",
    "\n",
    "Split the data so that the validation and testing sets each contain 20% of the data. For the sake of reproducibility, set `random_state=1` in each call of `train_test_split`. There are a few ways to do this, but to help ensure that we all get the same results, I have provided some of the code for you."
   ]
  },
  {
   "cell_type": "code",
   "execution_count": 8,
   "metadata": {},
   "outputs": [],
   "source": [
    "X_train, X_holdout, y_train, y_holdout = train_test_split(X, y, test_size = 0.4, random_state = 1)\n",
    "X_val, X_test, y_val, y_test = train_test_split(X_holdout, y_holdout, test_size = 0.5, random_state = 1)"
   ]
  },
  {
   "cell_type": "markdown",
   "metadata": {},
   "source": [
    "## Build and Train the Model\n",
    "\n",
    "Perform the following steps in the cell below:\n",
    "1. Use `np.random.seed` and `set_random_seed` to set the Python and Tensorflow seeds to 1. \n",
    "2. Create a sequential model. You should experiment with the number of hidden layers and nodes. I recommend using the Relu activation for the hidden layers. The output layer must use a sigmoid activation. \n",
    "3. Create an optimizer object, and set the learning rate to a value of your choice. \n",
    "4. Compile your model. Specify the loss and optimizer as appropriate. Set the `metrics` parameter so that accuracy is displayed during training. \n",
    "5. Fit the model on the training data. Make sure that progress on the validation data is displayed during training. Set `verbose=2`. You can experiment with the batch_size and epochs, but please keep the number of epochs less than 200 for this problem. \n",
    "\n",
    "Your goal is to find a model that will obtain a validation accuracy of at least 93%."
   ]
  },
  {
   "cell_type": "code",
   "execution_count": 9,
   "metadata": {
    "scrolled": false
   },
   "outputs": [
    {
     "name": "stdout",
     "output_type": "stream",
     "text": [
      "Train on 341 samples, validate on 114 samples\n",
      "Epoch 1/100\n",
      " - 0s - loss: 7.3631 - acc: 0.3842 - val_loss: 6.4329 - val_acc: 0.5965\n",
      "Epoch 2/100\n",
      " - 0s - loss: 6.1712 - acc: 0.6129 - val_loss: 6.4329 - val_acc: 0.5965\n",
      "Epoch 3/100\n",
      " - 0s - loss: 6.1712 - acc: 0.6129 - val_loss: 6.4329 - val_acc: 0.5965\n",
      "Epoch 4/100\n",
      " - 0s - loss: 6.1712 - acc: 0.6129 - val_loss: 6.4329 - val_acc: 0.5965\n",
      "Epoch 5/100\n",
      " - 0s - loss: 6.1712 - acc: 0.6129 - val_loss: 6.4329 - val_acc: 0.5965\n",
      "Epoch 6/100\n",
      " - 0s - loss: 6.1712 - acc: 0.6129 - val_loss: 6.4329 - val_acc: 0.5965\n",
      "Epoch 7/100\n",
      " - 0s - loss: 6.1712 - acc: 0.6129 - val_loss: 6.4329 - val_acc: 0.5965\n",
      "Epoch 8/100\n",
      " - 0s - loss: 6.1712 - acc: 0.6129 - val_loss: 6.4329 - val_acc: 0.5965\n",
      "Epoch 9/100\n",
      " - 0s - loss: 6.1712 - acc: 0.6129 - val_loss: 6.4329 - val_acc: 0.5965\n",
      "Epoch 10/100\n",
      " - 0s - loss: 6.1712 - acc: 0.6129 - val_loss: 6.4329 - val_acc: 0.5965\n",
      "Epoch 11/100\n",
      " - 0s - loss: 6.1712 - acc: 0.6129 - val_loss: 6.4329 - val_acc: 0.5965\n",
      "Epoch 12/100\n",
      " - 0s - loss: 6.1712 - acc: 0.6129 - val_loss: 6.4329 - val_acc: 0.5965\n",
      "Epoch 13/100\n",
      " - 0s - loss: 6.1712 - acc: 0.6129 - val_loss: 6.4329 - val_acc: 0.5965\n",
      "Epoch 14/100\n",
      " - 0s - loss: 6.1712 - acc: 0.6129 - val_loss: 6.4329 - val_acc: 0.5965\n",
      "Epoch 15/100\n",
      " - 0s - loss: 6.1712 - acc: 0.6129 - val_loss: 6.4329 - val_acc: 0.5965\n",
      "Epoch 16/100\n",
      " - 0s - loss: 6.1712 - acc: 0.6129 - val_loss: 6.4329 - val_acc: 0.5965\n",
      "Epoch 17/100\n",
      " - 0s - loss: 6.1712 - acc: 0.6129 - val_loss: 6.4329 - val_acc: 0.5965\n",
      "Epoch 18/100\n",
      " - 0s - loss: 6.1712 - acc: 0.6129 - val_loss: 6.4329 - val_acc: 0.5965\n",
      "Epoch 19/100\n",
      " - 0s - loss: 6.1712 - acc: 0.6129 - val_loss: 6.4329 - val_acc: 0.5965\n",
      "Epoch 20/100\n",
      " - 0s - loss: 6.1712 - acc: 0.6129 - val_loss: 6.4329 - val_acc: 0.5965\n",
      "Epoch 21/100\n",
      " - 0s - loss: 6.1712 - acc: 0.6129 - val_loss: 6.4329 - val_acc: 0.5965\n",
      "Epoch 22/100\n",
      " - 0s - loss: 6.1712 - acc: 0.6129 - val_loss: 6.4329 - val_acc: 0.5965\n",
      "Epoch 23/100\n",
      " - 0s - loss: 6.1712 - acc: 0.6129 - val_loss: 6.4329 - val_acc: 0.5965\n",
      "Epoch 24/100\n",
      " - 0s - loss: 6.1712 - acc: 0.6129 - val_loss: 6.4329 - val_acc: 0.5965\n",
      "Epoch 25/100\n",
      " - 0s - loss: 6.1712 - acc: 0.6129 - val_loss: 6.4329 - val_acc: 0.5965\n",
      "Epoch 26/100\n",
      " - 0s - loss: 6.1712 - acc: 0.6129 - val_loss: 6.4329 - val_acc: 0.5965\n",
      "Epoch 27/100\n",
      " - 0s - loss: 6.1712 - acc: 0.6129 - val_loss: 6.4329 - val_acc: 0.5965\n",
      "Epoch 28/100\n",
      " - 0s - loss: 6.1712 - acc: 0.6129 - val_loss: 6.4329 - val_acc: 0.5965\n",
      "Epoch 29/100\n",
      " - 0s - loss: 6.1712 - acc: 0.6129 - val_loss: 6.4329 - val_acc: 0.5965\n",
      "Epoch 30/100\n",
      " - 0s - loss: 6.1712 - acc: 0.6129 - val_loss: 6.4329 - val_acc: 0.5965\n",
      "Epoch 31/100\n",
      " - 0s - loss: 6.1712 - acc: 0.6129 - val_loss: 6.4329 - val_acc: 0.5965\n",
      "Epoch 32/100\n",
      " - 0s - loss: 6.1712 - acc: 0.6129 - val_loss: 6.4329 - val_acc: 0.5965\n",
      "Epoch 33/100\n",
      " - 0s - loss: 6.1712 - acc: 0.6129 - val_loss: 6.4329 - val_acc: 0.5965\n",
      "Epoch 34/100\n",
      " - 0s - loss: 6.1712 - acc: 0.6129 - val_loss: 6.4329 - val_acc: 0.5965\n",
      "Epoch 35/100\n",
      " - 0s - loss: 6.1712 - acc: 0.6129 - val_loss: 6.4329 - val_acc: 0.5965\n",
      "Epoch 36/100\n",
      " - 0s - loss: 6.1712 - acc: 0.6129 - val_loss: 6.4329 - val_acc: 0.5965\n",
      "Epoch 37/100\n",
      " - 0s - loss: 6.1712 - acc: 0.6129 - val_loss: 6.4329 - val_acc: 0.5965\n",
      "Epoch 38/100\n",
      " - 0s - loss: 6.1712 - acc: 0.6129 - val_loss: 6.4329 - val_acc: 0.5965\n",
      "Epoch 39/100\n",
      " - 0s - loss: 6.1712 - acc: 0.6129 - val_loss: 6.4329 - val_acc: 0.5965\n",
      "Epoch 40/100\n",
      " - 0s - loss: 6.1712 - acc: 0.6129 - val_loss: 6.4329 - val_acc: 0.5965\n",
      "Epoch 41/100\n",
      " - 0s - loss: 6.1712 - acc: 0.6129 - val_loss: 6.4329 - val_acc: 0.5965\n",
      "Epoch 42/100\n",
      " - 0s - loss: 6.1712 - acc: 0.6129 - val_loss: 6.4329 - val_acc: 0.5965\n",
      "Epoch 43/100\n",
      " - 0s - loss: 6.1712 - acc: 0.6129 - val_loss: 6.4329 - val_acc: 0.5965\n",
      "Epoch 44/100\n",
      " - 0s - loss: 6.1712 - acc: 0.6129 - val_loss: 6.4329 - val_acc: 0.5965\n",
      "Epoch 45/100\n",
      " - 0s - loss: 6.1712 - acc: 0.6129 - val_loss: 6.4329 - val_acc: 0.5965\n",
      "Epoch 46/100\n",
      " - 0s - loss: 6.1712 - acc: 0.6129 - val_loss: 6.4329 - val_acc: 0.5965\n",
      "Epoch 47/100\n",
      " - 0s - loss: 6.1712 - acc: 0.6129 - val_loss: 6.4329 - val_acc: 0.5965\n",
      "Epoch 48/100\n",
      " - 0s - loss: 6.1712 - acc: 0.6129 - val_loss: 6.4329 - val_acc: 0.5965\n",
      "Epoch 49/100\n",
      " - 0s - loss: 6.1712 - acc: 0.6129 - val_loss: 6.4329 - val_acc: 0.5965\n",
      "Epoch 50/100\n",
      " - 0s - loss: 6.1712 - acc: 0.6129 - val_loss: 6.4329 - val_acc: 0.5965\n",
      "Epoch 51/100\n",
      " - 0s - loss: 6.1712 - acc: 0.6129 - val_loss: 6.4329 - val_acc: 0.5965\n",
      "Epoch 52/100\n",
      " - 0s - loss: 6.1712 - acc: 0.6129 - val_loss: 6.4329 - val_acc: 0.5965\n",
      "Epoch 53/100\n",
      " - 0s - loss: 6.1712 - acc: 0.6129 - val_loss: 6.4329 - val_acc: 0.5965\n",
      "Epoch 54/100\n",
      " - 0s - loss: 6.1712 - acc: 0.6129 - val_loss: 6.4329 - val_acc: 0.5965\n",
      "Epoch 55/100\n",
      " - 0s - loss: 6.1712 - acc: 0.6129 - val_loss: 6.4329 - val_acc: 0.5965\n",
      "Epoch 56/100\n",
      " - 0s - loss: 6.1712 - acc: 0.6129 - val_loss: 6.4329 - val_acc: 0.5965\n",
      "Epoch 57/100\n",
      " - 0s - loss: 6.1712 - acc: 0.6129 - val_loss: 6.4329 - val_acc: 0.5965\n",
      "Epoch 58/100\n",
      " - 0s - loss: 6.1712 - acc: 0.6129 - val_loss: 6.4329 - val_acc: 0.5965\n",
      "Epoch 59/100\n",
      " - 0s - loss: 6.1712 - acc: 0.6129 - val_loss: 6.4329 - val_acc: 0.5965\n",
      "Epoch 60/100\n",
      " - 0s - loss: 6.1712 - acc: 0.6129 - val_loss: 6.4329 - val_acc: 0.5965\n",
      "Epoch 61/100\n",
      " - 0s - loss: 6.1712 - acc: 0.6129 - val_loss: 6.4329 - val_acc: 0.5965\n",
      "Epoch 62/100\n",
      " - 0s - loss: 6.1712 - acc: 0.6129 - val_loss: 6.4329 - val_acc: 0.5965\n",
      "Epoch 63/100\n",
      " - 0s - loss: 6.1712 - acc: 0.6129 - val_loss: 6.4329 - val_acc: 0.5965\n",
      "Epoch 64/100\n",
      " - 0s - loss: 6.1712 - acc: 0.6129 - val_loss: 6.4329 - val_acc: 0.5965\n",
      "Epoch 65/100\n",
      " - 0s - loss: 6.1712 - acc: 0.6129 - val_loss: 6.4329 - val_acc: 0.5965\n",
      "Epoch 66/100\n",
      " - 0s - loss: 6.1712 - acc: 0.6129 - val_loss: 6.4329 - val_acc: 0.5965\n",
      "Epoch 67/100\n",
      " - 0s - loss: 6.1712 - acc: 0.6129 - val_loss: 6.4329 - val_acc: 0.5965\n",
      "Epoch 68/100\n",
      " - 0s - loss: 6.1712 - acc: 0.6129 - val_loss: 6.4329 - val_acc: 0.5965\n",
      "Epoch 69/100\n",
      " - 0s - loss: 6.1712 - acc: 0.6129 - val_loss: 6.4329 - val_acc: 0.5965\n",
      "Epoch 70/100\n",
      " - 0s - loss: 6.1712 - acc: 0.6129 - val_loss: 6.4329 - val_acc: 0.5965\n",
      "Epoch 71/100\n",
      " - 0s - loss: 6.1712 - acc: 0.6129 - val_loss: 6.4329 - val_acc: 0.5965\n",
      "Epoch 72/100\n",
      " - 0s - loss: 6.1712 - acc: 0.6129 - val_loss: 6.4329 - val_acc: 0.5965\n",
      "Epoch 73/100\n",
      " - 0s - loss: 6.1712 - acc: 0.6129 - val_loss: 6.4329 - val_acc: 0.5965\n",
      "Epoch 74/100\n",
      " - 0s - loss: 6.1712 - acc: 0.6129 - val_loss: 6.4329 - val_acc: 0.5965\n",
      "Epoch 75/100\n",
      " - 0s - loss: 6.1712 - acc: 0.6129 - val_loss: 6.4329 - val_acc: 0.5965\n",
      "Epoch 76/100\n",
      " - 0s - loss: 6.1712 - acc: 0.6129 - val_loss: 6.4329 - val_acc: 0.5965\n",
      "Epoch 77/100\n",
      " - 0s - loss: 6.1712 - acc: 0.6129 - val_loss: 6.4329 - val_acc: 0.5965\n",
      "Epoch 78/100\n",
      " - 0s - loss: 6.1712 - acc: 0.6129 - val_loss: 6.4329 - val_acc: 0.5965\n",
      "Epoch 79/100\n",
      " - 0s - loss: 6.1712 - acc: 0.6129 - val_loss: 6.4329 - val_acc: 0.5965\n",
      "Epoch 80/100\n",
      " - 0s - loss: 6.1712 - acc: 0.6129 - val_loss: 6.4329 - val_acc: 0.5965\n",
      "Epoch 81/100\n",
      " - 0s - loss: 6.1712 - acc: 0.6129 - val_loss: 6.4329 - val_acc: 0.5965\n",
      "Epoch 82/100\n",
      " - 0s - loss: 6.1712 - acc: 0.6129 - val_loss: 6.4329 - val_acc: 0.5965\n",
      "Epoch 83/100\n",
      " - 0s - loss: 6.1712 - acc: 0.6129 - val_loss: 6.4329 - val_acc: 0.5965\n",
      "Epoch 84/100\n",
      " - 0s - loss: 6.1712 - acc: 0.6129 - val_loss: 6.4329 - val_acc: 0.5965\n",
      "Epoch 85/100\n",
      " - 0s - loss: 6.1712 - acc: 0.6129 - val_loss: 6.4329 - val_acc: 0.5965\n",
      "Epoch 86/100\n",
      " - 0s - loss: 6.1712 - acc: 0.6129 - val_loss: 6.4329 - val_acc: 0.5965\n",
      "Epoch 87/100\n",
      " - 0s - loss: 6.1712 - acc: 0.6129 - val_loss: 6.4329 - val_acc: 0.5965\n",
      "Epoch 88/100\n",
      " - 0s - loss: 6.1712 - acc: 0.6129 - val_loss: 6.4329 - val_acc: 0.5965\n",
      "Epoch 89/100\n",
      " - 0s - loss: 6.1712 - acc: 0.6129 - val_loss: 6.4329 - val_acc: 0.5965\n",
      "Epoch 90/100\n",
      " - 0s - loss: 6.1712 - acc: 0.6129 - val_loss: 6.4329 - val_acc: 0.5965\n",
      "Epoch 91/100\n",
      " - 0s - loss: 6.1712 - acc: 0.6129 - val_loss: 6.4329 - val_acc: 0.5965\n",
      "Epoch 92/100\n",
      " - 0s - loss: 6.1712 - acc: 0.6129 - val_loss: 6.4329 - val_acc: 0.5965\n",
      "Epoch 93/100\n",
      " - 0s - loss: 6.1712 - acc: 0.6129 - val_loss: 6.4329 - val_acc: 0.5965\n",
      "Epoch 94/100\n",
      " - 0s - loss: 6.1712 - acc: 0.6129 - val_loss: 6.4329 - val_acc: 0.5965\n",
      "Epoch 95/100\n",
      " - 0s - loss: 6.1712 - acc: 0.6129 - val_loss: 6.4329 - val_acc: 0.5965\n",
      "Epoch 96/100\n",
      " - 0s - loss: 6.1712 - acc: 0.6129 - val_loss: 6.4329 - val_acc: 0.5965\n"
     ]
    },
    {
     "name": "stdout",
     "output_type": "stream",
     "text": [
      "Epoch 97/100\n",
      " - 0s - loss: 6.1712 - acc: 0.6129 - val_loss: 6.4329 - val_acc: 0.5965\n",
      "Epoch 98/100\n",
      " - 0s - loss: 6.1712 - acc: 0.6129 - val_loss: 6.4329 - val_acc: 0.5965\n",
      "Epoch 99/100\n",
      " - 0s - loss: 6.1712 - acc: 0.6129 - val_loss: 6.4329 - val_acc: 0.5965\n",
      "Epoch 100/100\n",
      " - 0s - loss: 6.1712 - acc: 0.6129 - val_loss: 6.4329 - val_acc: 0.5965\n",
      "Validation Scores: [6.432892506582695, 0.596491231207262]\n"
     ]
    }
   ],
   "source": [
    "np.random.seed(1)\n",
    "set_random_seed(1)\n",
    "\n",
    "model_1 = Sequential()\n",
    "model_1.add(Dense(32, input_shape=(30,), activation='relu'))\n",
    "model_1.add(Dense(10, activation='relu'))\n",
    "model_1.add(Dense(1, activation='sigmoid'))\n",
    "\n",
    "opt = keras.optimizers.Adam(lr=0.01)\n",
    "model_1.compile(loss='binary_crossentropy', optimizer=opt, metrics=['accuracy'])\n",
    "\n",
    "h = model_1.fit(X_train, y_train, batch_size=340, epochs=100, verbose=2, validation_data=(X_val, y_val))\n",
    "\n",
    "val_score = model_1.evaluate(X_val, y_val, verbose=0)\n",
    "\n",
    "print('Validation Scores:', val_score)"
   ]
  },
  {
   "cell_type": "markdown",
   "metadata": {},
   "source": [
    "## Visualizing Training Process\n",
    "\n",
    "Display two side-by-side plots that show how the loss and accuracy change during training. For each plot, label both axes, add a title, and display the legend. "
   ]
  },
  {
   "cell_type": "code",
   "execution_count": 10,
   "metadata": {
    "scrolled": false
   },
   "outputs": [
    {
     "data": {
      "image/png": "[encoded data removed]",
      "text/plain": [
       "<matplotlib.figure.Figure at 0x16685d2f358>"
      ]
     },
     "metadata": {},
     "output_type": "display_data"
    }
   ],
   "source": [
    "plt.figure(figsize=(8,4))\n",
    "    \n",
    "plt.subplot(1,2,1)\n",
    "plt.plot(h.history['loss'], label='Training')\n",
    "plt.plot(h.history['val_loss'], label='Validation')\n",
    "plt.title('Loss')\n",
    "plt.ylabel('Loss')\n",
    "plt.xlabel('Epoch')\n",
    "plt.legend()\n",
    "\n",
    "plt.subplot(1,2,2)\n",
    "plt.plot(h.history['acc'], label='Training')\n",
    "plt.plot(h.history['val_acc'], label='Validation')\n",
    "plt.title('Accuracy')\n",
    "plt.ylabel('Accuracy')\n",
    "plt.xlabel('Epoch')\n",
    "plt.legend()\n",
    "\n",
    "plt.show()"
   ]
  },
  {
   "cell_type": "markdown",
   "metadata": {},
   "source": [
    "## Analyze Performance on the Test Set\n",
    "\n",
    "In the cell below, use the `evaluate` method of your model to calculate the loss and accuracy obtained by the model on the test set. Print out two lines that read as follows:\n",
    "\n",
    "    Testing Loss:     #####\n",
    "    Testing Accuracy: #####"
   ]
  },
  {
   "cell_type": "code",
   "execution_count": 11,
   "metadata": {},
   "outputs": [
    {
     "name": "stdout",
     "output_type": "stream",
     "text": [
      "Testing Loss:      4.754746503997267\n",
      "Testing Accuracy:  0.7017543880563033\n"
     ]
    }
   ],
   "source": [
    "perf_score = model_1.evaluate(X_test, y_test, verbose=0)\n",
    "\n",
    "print('Testing Loss:     ', perf_score[0])\n",
    "print('Testing Accuracy: ', perf_score[1])"
   ]
  },
  {
   "cell_type": "markdown",
   "metadata": {},
   "source": [
    "Create an array called `y_pred` that contains the predicted labels for samples in the test set. "
   ]
  },
  {
   "cell_type": "code",
   "execution_count": 12,
   "metadata": {
    "collapsed": true
   },
   "outputs": [],
   "source": [
    "y_pred = model_1.predict_classes(X_test)"
   ]
  },
  {
   "cell_type": "markdown",
   "metadata": {},
   "source": [
    "Run the two cells below to display a confusion matrix and a classification report for the test set. We will explain the purpose of these reports later. "
   ]
  },
  {
   "cell_type": "code",
   "execution_count": 13,
   "metadata": {},
   "outputs": [
    {
     "name": "stdout",
     "output_type": "stream",
     "text": [
      "[[ 0 34]\n",
      " [ 0 80]]\n"
     ]
    }
   ],
   "source": [
    "from sklearn.metrics import classification_report\n",
    "from sklearn.metrics import confusion_matrix\n",
    "\n",
    "print(confusion_matrix(y_test, y_pred))"
   ]
  },
  {
   "cell_type": "code",
   "execution_count": 14,
   "metadata": {
    "scrolled": true
   },
   "outputs": [
    {
     "name": "stdout",
     "output_type": "stream",
     "text": [
      "             precision    recall  f1-score   support\n",
      "\n",
      "  malignant       0.00      0.00      0.00        34\n",
      "     benign       0.70      1.00      0.82        80\n",
      "\n",
      "avg / total       0.49      0.70      0.58       114\n",
      "\n"
     ]
    },
    {
     "name": "stderr",
     "output_type": "stream",
     "text": [
      "C:\\Users\\TRANNGUYEN.DESKTOP-M0N940V\\Anaconda3\\lib\\site-packages\\sklearn\\metrics\\classification.py:1113: UndefinedMetricWarning: Precision and F-score are ill-defined and being set to 0.0 in labels with no predicted samples.\n",
      "  'precision', 'predicted', average, warn_for)\n"
     ]
    }
   ],
   "source": [
    "print(classification_report(y_test, y_pred, target_names=bc_data.target_names))"
   ]
  }
 ],
 "metadata": {
  "kernelspec": {
   "display_name": "Python 3",
   "language": "python",
   "name": "python3"
  },
  "language_info": {
   "codemirror_mode": {
    "name": "ipython",
    "version": 3
   },
   "file_extension": ".py",
   "mimetype": "text/x-python",
   "name": "python",
   "nbconvert_exporter": "python",
   "pygments_lexer": "ipython3",
   "version": "3.6.1"
  },
  "widgets": {
   "state": {
    "59ddc78617594ae2a66b9c9e95e2dd37": {
     "views": [
      {
       "cell_index": 12
      }
     ]
    }
   },
   "version": "1.2.0"
  }
 },
 "nbformat": 4,
 "nbformat_minor": 2
}
